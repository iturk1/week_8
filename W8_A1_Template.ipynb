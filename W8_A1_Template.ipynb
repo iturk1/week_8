{
 "cells": [
  {
   "cell_type": "markdown",
   "metadata": {},
   "source": [
    "# Quantum Stock Picking and Quantum Portfolio Optimization\n"
   ]
  },
  {
   "cell_type": "code",
   "execution_count": 1,
   "metadata": {},
   "outputs": [],
   "source": [
    "#6005eb03472e63b11e2ee077908d91cdcc1e6566461263fe6bb57b63de174c369b5ddbe0c5d42fcbf7330a6f6612e1bd833c3ddcf1e15fb4e960a117dc13cd11"
   ]
  },
  {
   "cell_type": "markdown",
   "metadata": {},
   "source": [
    "## Introduction\n",
    "\n",
    "This assignment will shows how we can use mean-variance optimization to pick stocks for a problem for $n$ assets:\n",
    "\n",
    "$$\\begin{aligned}\n",
    "\\min_{x \\in \\{0, 1\\}^n}  q x^T \\Sigma x - \\mu^T x\\\\\n",
    "\\text{subject to: } 1^T x = B\n",
    "\\end{aligned}$$\n",
    "\n",
    "where we use the following notation:\n",
    "\n",
    "- $x \\in \\{0, 1\\}^n$ denotes the vector of binary decision variables, which indicate which assets to pick ($x[i] = 1$) and which not to pick ($x[i] = 0$),\n",
    "- $\\mu \\in \\mathbb{R}^n$ defines the expected returns for the assets,\n",
    "- $\\Sigma \\in \\mathbb{R}^{n \\times n}$ specifies the covariances between the assets,\n",
    "- $q > 0$ controls the risk appetite of the decision maker,\n",
    "- and $B$ denotes the budget, i.e. the number of assets to be selected out of $n$.\n",
    "\n",
    "We assume the following simplifications:\n",
    "- all assets have the same price (normalized to 1),\n",
    "- the full budget $B$ has to be spent, i.e. one has to select exactly $B$ assets.\n",
    "\n",
    "The equality constraint $1^T x = B$ is mapped to a penalty term $(1^T x - B)^2$ which is scaled by a parameter and subtracted from the objective function. \n",
    "The resulting problem can be mapped to a Hamiltonian whose ground state corresponds to  the optimal solution.\n",
    "This notebook shows how to use the Variational Quantum Eigensolver (VQE) to find the optimal solution for a given set of parameters.\n",
    "\n",
    "Experiments on real quantum hardware for this problem are reported for instance in the following paper:\n",
    "<br>\n",
    "[Improving Variational Quantum Optimization using CVaR. Barkoutsos et al. 2019.](https://arxiv.org/abs/1907.04769)\n",
    "\n",
    "Note: We are not using CVaR as a portfolio statistic here, rather as a heuristic in our VQE procedure, curious students are encouraged to read the paper above."
   ]
  },
  {
   "cell_type": "markdown",
   "metadata": {},
   "source": [
    "#### To Students: Complete the following sections labeled todo"
   ]
  },
  {
   "cell_type": "code",
   "execution_count": 3,
   "metadata": {
    "ExecuteTime": {
     "end_time": "2020-07-13T20:35:05.710593Z",
     "start_time": "2020-07-13T20:34:57.647535Z"
    }
   },
   "outputs": [],
   "source": [
    "from qiskit import Aer\n",
    "from qiskit.algorithms import VQE, QAOA, NumPyMinimumEigensolver\n",
    "from qiskit.algorithms.optimizers import COBYLA\n",
    "from qiskit.circuit.library import TwoLocal\n",
    "from qiskit.utils import QuantumInstance\n",
    "from qiskit_finance.applications.optimization import PortfolioOptimization\n",
    "from qiskit_finance.data_providers import RandomDataProvider, YahooDataProvider\n",
    "from qiskit_optimization.algorithms import MinimumEigenOptimizer\n",
    "from qiskit_optimization.applications import OptimizationApplication\n",
    "from qiskit_optimization.converters import QuadraticProgramToQubo\n",
    "from qiskit.utils import algorithm_globals\n",
    "\n",
    "import numpy as np\n",
    "import matplotlib.pyplot as plt\n",
    "import datetime\n",
    "import pandas\n",
    "import pandas as pd\n",
    "\n",
    "def index_to_selection(i, num_assets):\n",
    "    s = \"{0:b}\".format(i).rjust(num_assets)\n",
    "    x = np.array([1 if s[i]=='1' else 0 for i in reversed(range(num_assets))])\n",
    "    return x\n",
    "\n",
    "def print_result(result):\n",
    "    selection = result.x\n",
    "    value = result.fval\n",
    "    print('Optimal: selection {}, value {:.4f}'.format(selection, value))\n",
    "    \n",
    "    eigenstate = result.min_eigen_solver_result.eigenstate\n",
    "    eigenvector = eigenstate if isinstance(eigenstate, np.ndarray) else eigenstate.to_matrix()\n",
    "    probabilities = np.abs(eigenvector)**2\n",
    "    i_sorted = reversed(np.argsort(probabilities))\n",
    "    print('\\n----------------- Full result ---------------------')\n",
    "    print('selection\\tvalue\\t\\tprobability')\n",
    "    print('---------------------------------------------------')\n",
    "    for i in i_sorted:\n",
    "        x = index_to_selection(i, num_assets)\n",
    "        value = QuadraticProgramToQubo().convert(qp).objective.evaluate(x)\n",
    "        #value = portfolio.to_quadratic_program().objective.evaluate(x)\n",
    "        probability = probabilities[i]\n",
    "        print('%10s\\t%.4f\\t\\t%.4f' %(x, value, probability))"
   ]
  },
  {
   "cell_type": "code",
   "execution_count": 4,
   "metadata": {},
   "outputs": [],
   "source": [
    "from qiskit import IBMQ\n",
    "IBMQ.save_account('6005eb03472e63b11e2ee077908d91cdcc1e6566461263fe6bb57b63de174c369b5ddbe0c5d42fcbf7330a6f6612e1bd833c3ddcf1e15fb4e960a117dc13cd11', overwrite=True)"
   ]
  },
  {
   "cell_type": "code",
   "execution_count": 4,
   "metadata": {},
   "outputs": [],
   "source": [
    "#IBMQ.providers()[0].backends()[-1]"
   ]
  },
  {
   "cell_type": "code",
   "execution_count": 5,
   "metadata": {},
   "outputs": [],
   "source": [
    "#global random seed used throuhgout\n",
    "seed = 123"
   ]
  },
  {
   "cell_type": "code",
   "execution_count": 6,
   "metadata": {
    "ExecuteTime": {
     "end_time": "2020-07-13T20:35:15.224327Z",
     "start_time": "2020-07-13T20:35:15.213892Z"
    }
   },
   "outputs": [],
   "source": [
    "# Generate expected return and covariance matrix from (random) time-series\n",
    "\n",
    "#Todo pick candidate stocks, 3-8 are recommended, stick to 4 if you're going to submit a real quantum experiment to IBM's cloud:\n",
    "\n",
    "stocks = ['IBM','MSFT','GOOGL','AMZN','BABA']\n",
    "\n",
    "# Here are some quantum themed stocks :) \n",
    "# ['IBM','AMD','ACN','NVDA','GOOGL','MSFT','AMZN','MU','BABA']\n",
    "# Feel free to pick any in this list or beyond\n",
    "    \n",
    "num_assets = len(stocks)\n",
    "\n",
    "#IBM has done us a favour and provided a cute data provider they designed.\n",
    "data = YahooDataProvider(tickers=stocks,\n",
    "                 start=pandas.Timestamp('2015'),\n",
    "                 end=pandas.Timestamp.now())\n",
    "data.run()\n",
    "\n",
    "# Here we pull apart the IBM qiskit_finance.data_provider internals to retreive our data and format as a pandas DataFrame\n",
    "df = pandas.DataFrame({data._tickers[tidx]:data._data[tidx] for tidx in range(len(data._tickers))})\n",
    "\n",
    "# Provided by IBM\n",
    "mu = data.get_period_return_mean_vector()\n",
    "sigma = data.get_period_return_covariance_matrix()"
   ]
  },
  {
   "cell_type": "code",
   "execution_count": 7,
   "metadata": {
    "ExecuteTime": {
     "end_time": "2020-07-13T20:35:15.231767Z",
     "start_time": "2020-07-13T20:35:15.226490Z"
    }
   },
   "outputs": [
    {
     "data": {
      "text/plain": [
       "\\ This file has been generated by DOcplex\n",
       "\\ ENCODING=ISO-8859-1\n",
       "\\Problem name: Portfolio optimization\n",
       "\n",
       "Minimize\n",
       " obj: - 0.000143007918 x_0 - 0.001326151363 x_1 - 0.001102865871 x_2\n",
       "      - 0.001554990852 x_3 - 0.000284165007 x_4 + [ 0.000245765391 x_0^2\n",
       "      + 0.000265982611 x_0*x_1 + 0.000237944485 x_0*x_2 + 0.000189486072 x_0*x_3\n",
       "      + 0.000187919936 x_0*x_4 + 0.000288217789 x_1^2 + 0.000412109400 x_1*x_2\n",
       "      + 0.000417966709 x_1*x_3 + 0.000327982423 x_1*x_4 + 0.000278967925 x_2^2\n",
       "      + 0.000406657086 x_2*x_3 + 0.000321640348 x_2*x_4 + 0.000361323355 x_3^2\n",
       "      + 0.000360702247 x_3*x_4 + 0.000478777494 x_4^2 ]/2\n",
       "Subject To\n",
       " c0: x_0 + x_1 + x_2 + x_3 + x_4 = 2\n",
       "\n",
       "Bounds\n",
       " 0 <= x_0 <= 1\n",
       " 0 <= x_1 <= 1\n",
       " 0 <= x_2 <= 1\n",
       " 0 <= x_3 <= 1\n",
       " 0 <= x_4 <= 1\n",
       "\n",
       "Binaries\n",
       " x_0 x_1 x_2 x_3 x_4\n",
       "End"
      ]
     },
     "execution_count": 7,
     "metadata": {},
     "output_type": "execute_result"
    }
   ],
   "source": [
    "q = 0.50                   #  risk appetite \n",
    "budget = num_assets  //2   #  stocks to allocate\n",
    "penalty = num_assets       #  set parameter to scale the budget penalty term\n",
    "bounds = None              #  Allocation percent: None: 100%\n",
    "\n",
    "portfolio = PortfolioOptimization(expected_returns=mu, covariances=sigma, risk_factor=q, budget=budget,bounds=bounds)\n",
    "qp = portfolio.to_quadratic_program()\n",
    "qp"
   ]
  },
  {
   "cell_type": "code",
   "execution_count": null,
   "metadata": {
    "ExecuteTime": {
     "end_time": "2020-07-13T20:35:15.243604Z",
     "start_time": "2020-07-13T20:35:15.233567Z"
    }
   },
   "outputs": [],
   "source": []
  },
  {
   "cell_type": "markdown",
   "metadata": {
    "tags": []
   },
   "source": [
    "## Solution using VQE\n",
    "We can now use the Variational Quantum Eigensolver (VQE) to solve the problem. We will specify the optimizer and variational form to be used.\n",
    "\n",
    "Note: You can switch to different backends by providing the name of backend."
   ]
  },
  {
   "cell_type": "code",
   "execution_count": 9,
   "metadata": {
    "ExecuteTime": {
     "end_time": "2020-07-13T20:35:26.536878Z",
     "start_time": "2020-07-13T20:35:24.379996Z"
    }
   },
   "outputs": [
    {
     "name": "stdout",
     "output_type": "stream",
     "text": [
      "Optimal: selection [0. 1. 0. 1. 0.], value -0.0023\n",
      "\n",
      "----------------- Full result ---------------------\n",
      "selection\tvalue\t\tprobability\n",
      "---------------------------------------------------\n",
      "[0 0 1 0 1]\t-0.0008\t\t0.5791\n",
      "[0 1 1 0 0]\t-0.0019\t\t0.4141\n",
      "[1 1 0 0 0]\t-0.0011\t\t0.0020\n",
      "[0 1 0 1 0]\t-0.0023\t\t0.0016\n",
      "[0 0 0 1 1]\t-0.0012\t\t0.0014\n",
      "[1 0 0 0 1]\t0.0000\t\t0.0007\n",
      "[0 1 0 0 1]\t-0.0011\t\t0.0007\n",
      "[1 0 1 0 1]\t1.0061\t\t0.0001\n",
      "[1 1 1 0 0]\t1.0051\t\t0.0001\n",
      "[1 0 1 0 0]\t-0.0009\t\t0.0001\n",
      "[1 1 0 0 1]\t1.0059\t\t0.0000\n",
      "[1 0 0 1 1]\t1.0057\t\t0.0000\n",
      "[1 1 0 1 0]\t1.0047\t\t0.0000\n",
      "[1 0 0 0 0]\t1.0068\t\t0.0000\n",
      "[0 0 0 1 0]\t1.0054\t\t0.0000\n",
      "[1 1 1 1 0]\t4.0246\t\t0.0000\n",
      "[1 0 1 1 1]\t4.0257\t\t0.0000\n",
      "[0 1 0 1 1]\t1.0048\t\t0.0000\n",
      "[0 0 1 1 0]\t-0.0021\t\t0.0000\n",
      "[1 0 0 1 0]\t-0.0013\t\t0.0000\n",
      "[1 1 1 0 1]\t4.0259\t\t0.0000\n",
      "[0 0 1 1 1]\t1.0050\t\t0.0000\n",
      "[0 1 1 0 1]\t1.0051\t\t0.0000\n",
      "[0 0 1 0 0]\t1.0058\t\t0.0000\n",
      "[1 0 1 1 0]\t1.0049\t\t0.0000\n",
      "[1 1 1 1 1]\t9.0592\t\t0.0000\n",
      "[0 1 1 1 1]\t4.0248\t\t0.0000\n",
      "[0 1 0 0 0]\t1.0056\t\t0.0000\n",
      "[0 0 0 0 0]\t4.0272\t\t0.0000\n",
      "[1 1 0 1 1]\t4.0255\t\t0.0000\n",
      "[0 0 0 0 1]\t1.0068\t\t0.0000\n",
      "[0 1 1 1 0]\t1.0039\t\t0.0000\n"
     ]
    }
   ],
   "source": [
    "algorithm_globals.random_seed = seed+1\n",
    "backend = Aer.get_backend('statevector_simulator')\n",
    "\n",
    "#backend = IBMQ.providers()[0].backends()[-1]\n",
    "cobyla = COBYLA()\n",
    "cobyla.set_options(maxiter=500)\n",
    "\n",
    "ry = TwoLocal(num_assets, 'ry', 'cz', reps=3, entanglement='full')\n",
    "\n",
    "quantum_instance = QuantumInstance(backend=backend, seed_simulator=seed, seed_transpiler=seed)\n",
    "\n",
    "vqe_mes = VQE(ry, optimizer=cobyla, quantum_instance=quantum_instance)\n",
    "vqe = MinimumEigenOptimizer(vqe_mes)\n",
    "\n",
    "result = vqe.solve(qp)\n",
    "\n",
    "\n",
    "# print(result.fval)\n",
    "print_result(result)"
   ]
  },
  {
   "cell_type": "code",
   "execution_count": 9,
   "metadata": {},
   "outputs": [],
   "source": [
    "#result.x"
   ]
  },
  {
   "cell_type": "code",
   "execution_count": 10,
   "metadata": {},
   "outputs": [
    {
     "data": {
      "text/html": [
       "<div>\n",
       "<style scoped>\n",
       "    .dataframe tbody tr th:only-of-type {\n",
       "        vertical-align: middle;\n",
       "    }\n",
       "\n",
       "    .dataframe tbody tr th {\n",
       "        vertical-align: top;\n",
       "    }\n",
       "\n",
       "    .dataframe thead th {\n",
       "        text-align: right;\n",
       "    }\n",
       "</style>\n",
       "<table border=\"1\" class=\"dataframe\">\n",
       "  <thead>\n",
       "    <tr style=\"text-align: right;\">\n",
       "      <th></th>\n",
       "      <th>IBM</th>\n",
       "      <th>MSFT</th>\n",
       "      <th>GOOGL</th>\n",
       "      <th>AMZN</th>\n",
       "      <th>BABA</th>\n",
       "    </tr>\n",
       "    <tr>\n",
       "      <th>Date</th>\n",
       "      <th></th>\n",
       "      <th></th>\n",
       "      <th></th>\n",
       "      <th></th>\n",
       "      <th></th>\n",
       "    </tr>\n",
       "  </thead>\n",
       "  <tbody>\n",
       "    <tr>\n",
       "      <th>2015-01-02</th>\n",
       "      <td>114.906525</td>\n",
       "      <td>41.193836</td>\n",
       "      <td>529.549988</td>\n",
       "      <td>308.519989</td>\n",
       "      <td>103.599998</td>\n",
       "    </tr>\n",
       "    <tr>\n",
       "      <th>2015-01-05</th>\n",
       "      <td>113.098465</td>\n",
       "      <td>40.815025</td>\n",
       "      <td>519.460022</td>\n",
       "      <td>302.190002</td>\n",
       "      <td>101.000000</td>\n",
       "    </tr>\n",
       "    <tr>\n",
       "      <th>2015-01-06</th>\n",
       "      <td>110.659370</td>\n",
       "      <td>40.215969</td>\n",
       "      <td>506.640015</td>\n",
       "      <td>295.290009</td>\n",
       "      <td>103.320000</td>\n",
       "    </tr>\n",
       "    <tr>\n",
       "      <th>2015-01-07</th>\n",
       "      <td>109.936157</td>\n",
       "      <td>40.726933</td>\n",
       "      <td>505.149994</td>\n",
       "      <td>298.420013</td>\n",
       "      <td>102.129997</td>\n",
       "    </tr>\n",
       "    <tr>\n",
       "      <th>2015-01-08</th>\n",
       "      <td>112.325630</td>\n",
       "      <td>41.925037</td>\n",
       "      <td>506.910004</td>\n",
       "      <td>300.459991</td>\n",
       "      <td>105.029999</td>\n",
       "    </tr>\n",
       "    <tr>\n",
       "      <th>...</th>\n",
       "      <td>...</td>\n",
       "      <td>...</td>\n",
       "      <td>...</td>\n",
       "      <td>...</td>\n",
       "      <td>...</td>\n",
       "    </tr>\n",
       "    <tr>\n",
       "      <th>2021-11-29</th>\n",
       "      <td>118.500000</td>\n",
       "      <td>336.630005</td>\n",
       "      <td>2910.610107</td>\n",
       "      <td>3561.570068</td>\n",
       "      <td>131.610001</td>\n",
       "    </tr>\n",
       "    <tr>\n",
       "      <th>2021-11-30</th>\n",
       "      <td>117.099998</td>\n",
       "      <td>330.589996</td>\n",
       "      <td>2837.949951</td>\n",
       "      <td>3507.070068</td>\n",
       "      <td>127.529999</td>\n",
       "    </tr>\n",
       "    <tr>\n",
       "      <th>2021-12-01</th>\n",
       "      <td>116.919998</td>\n",
       "      <td>330.079987</td>\n",
       "      <td>2821.030029</td>\n",
       "      <td>3443.719971</td>\n",
       "      <td>122.489998</td>\n",
       "    </tr>\n",
       "    <tr>\n",
       "      <th>2021-12-02</th>\n",
       "      <td>116.900002</td>\n",
       "      <td>329.489990</td>\n",
       "      <td>2859.320068</td>\n",
       "      <td>3437.360107</td>\n",
       "      <td>122.000000</td>\n",
       "    </tr>\n",
       "    <tr>\n",
       "      <th>2021-12-03</th>\n",
       "      <td>118.839996</td>\n",
       "      <td>323.010010</td>\n",
       "      <td>2840.030029</td>\n",
       "      <td>3389.790039</td>\n",
       "      <td>111.959999</td>\n",
       "    </tr>\n",
       "  </tbody>\n",
       "</table>\n",
       "<p>1744 rows × 5 columns</p>\n",
       "</div>"
      ],
      "text/plain": [
       "                   IBM        MSFT        GOOGL         AMZN        BABA\n",
       "Date                                                                    \n",
       "2015-01-02  114.906525   41.193836   529.549988   308.519989  103.599998\n",
       "2015-01-05  113.098465   40.815025   519.460022   302.190002  101.000000\n",
       "2015-01-06  110.659370   40.215969   506.640015   295.290009  103.320000\n",
       "2015-01-07  109.936157   40.726933   505.149994   298.420013  102.129997\n",
       "2015-01-08  112.325630   41.925037   506.910004   300.459991  105.029999\n",
       "...                ...         ...          ...          ...         ...\n",
       "2021-11-29  118.500000  336.630005  2910.610107  3561.570068  131.610001\n",
       "2021-11-30  117.099998  330.589996  2837.949951  3507.070068  127.529999\n",
       "2021-12-01  116.919998  330.079987  2821.030029  3443.719971  122.489998\n",
       "2021-12-02  116.900002  329.489990  2859.320068  3437.360107  122.000000\n",
       "2021-12-03  118.839996  323.010010  2840.030029  3389.790039  111.959999\n",
       "\n",
       "[1744 rows x 5 columns]"
      ]
     },
     "execution_count": 10,
     "metadata": {},
     "output_type": "execute_result"
    }
   ],
   "source": [
    "#stocks\n",
    "df"
   ]
  },
  {
   "cell_type": "code",
   "execution_count": 11,
   "metadata": {},
   "outputs": [],
   "source": [
    "#np.array(stocks)[result.x.astype('bool')]"
   ]
  },
  {
   "cell_type": "code",
   "execution_count": null,
   "metadata": {},
   "outputs": [],
   "source": []
  },
  {
   "cell_type": "code",
   "execution_count": 11,
   "metadata": {},
   "outputs": [
    {
     "name": "stdout",
     "output_type": "stream",
     "text": [
      "Stocks from our Qunatum Stock Picking algorthm selected: ['MSFT', 'AMZN']\n"
     ]
    }
   ],
   "source": [
    "selected_stocks = list(np.array(stocks)[result.x.astype('bool')])\n",
    "print(f\"Stocks from our Qunatum Stock Picking algorthm selected: {selected_stocks}\")"
   ]
  },
  {
   "cell_type": "markdown",
   "metadata": {},
   "source": [
    "### Student todo, complete an equity curve, CAGR and IR comparison for the portfolio of all the stocks you selected for optimization compared to one which your Quantum Stock picker put together\n",
    "\n",
    "hints:\n",
    "\n",
    "\n",
    "df[selected_stocks] contains a data frame with your stock pick prices.   \n",
    "df is the full list of stocks you started with."
   ]
  },
  {
   "cell_type": "code",
   "execution_count": 12,
   "metadata": {},
   "outputs": [
    {
     "name": "stdout",
     "output_type": "stream",
     "text": [
      "IR selection: 1.4\n",
      "IR all: 1.01 \n",
      "\n",
      "CAGR selection: 270.47%\n",
      "CAGR all: 116.85%\n"
     ]
    },
    {
     "data": {
      "image/png": "[encoded data removed]",
      "text/plain": [
       "<Figure size 432x288 with 1 Axes>"
      ]
     },
     "metadata": {
      "needs_background": "light"
     },
     "output_type": "display_data"
    }
   ],
   "source": [
    "all_df = df\n",
    "sel_df = df[selected_stocks]\n",
    "\n",
    "\n",
    "sel_df_dr = sel_df.pct_change().dropna().mean(axis= 1)\n",
    "all_df_dr = all_df.pct_change().dropna().mean(axis= 1)\n",
    "\n",
    "eq_sel = 10000*sel_df_dr.add(1).cumprod()\n",
    "eq_all = 10000*all_df_dr.add(1).cumprod()\n",
    "\n",
    "\n",
    "eq_all.plot()\n",
    "eq_sel.plot()\n",
    "plt.legend(['All','Q-Stk-Pcker'])\n",
    "\n",
    "IR_sel = (sel_df_dr.mean() / sel_df_dr.std()) * (252) ** 0.5\n",
    "\n",
    "IR_all = (all_df_dr.mean() / all_df_dr.std()) * (252) ** 0.5\n",
    "                \n",
    "print(f\"IR selection: {round(IR_sel,2)}\")\n",
    "print(f\"IR all: {round(IR_all,2)} \\n\")\n",
    "\n",
    "CAGR_all = 100*((eq_all.iloc[-1]/10000)-1) ** (252/len(eq_all))                 \n",
    "CAGR_sel = 100*((eq_sel.iloc[-1]/100)-1) ** (252/len(eq_sel)) \n",
    "\n",
    "                \n",
    "print(f\"CAGR selection: {round(CAGR_sel,2)}%\")\n",
    "print(f\"CAGR all: {round(CAGR_all,2)}%\")"
   ]
  },
  {
   "cell_type": "code",
   "execution_count": 14,
   "metadata": {},
   "outputs": [],
   "source": [
    "#eq_all\n",
    "#(all_df * 10000).plot()\n",
    "#(10000*all_df_dr.add(1).cumprod()).plot()"
   ]
  },
  {
   "cell_type": "code",
   "execution_count": 13,
   "metadata": {},
   "outputs": [
    {
     "data": {
      "text/html": [
       "<div>\n",
       "<style scoped>\n",
       "    .dataframe tbody tr th:only-of-type {\n",
       "        vertical-align: middle;\n",
       "    }\n",
       "\n",
       "    .dataframe tbody tr th {\n",
       "        vertical-align: top;\n",
       "    }\n",
       "\n",
       "    .dataframe thead th {\n",
       "        text-align: right;\n",
       "    }\n",
       "</style>\n",
       "<table border=\"1\" class=\"dataframe\">\n",
       "  <thead>\n",
       "    <tr style=\"text-align: right;\">\n",
       "      <th></th>\n",
       "      <th>IBM</th>\n",
       "      <th>MSFT</th>\n",
       "      <th>GOOGL</th>\n",
       "      <th>AMZN</th>\n",
       "      <th>BABA</th>\n",
       "    </tr>\n",
       "    <tr>\n",
       "      <th>Date</th>\n",
       "      <th></th>\n",
       "      <th></th>\n",
       "      <th></th>\n",
       "      <th></th>\n",
       "      <th></th>\n",
       "    </tr>\n",
       "  </thead>\n",
       "  <tbody>\n",
       "    <tr>\n",
       "      <th>2015-01-02</th>\n",
       "      <td>114.906525</td>\n",
       "      <td>41.193836</td>\n",
       "      <td>529.549988</td>\n",
       "      <td>308.519989</td>\n",
       "      <td>103.599998</td>\n",
       "    </tr>\n",
       "    <tr>\n",
       "      <th>2015-01-05</th>\n",
       "      <td>113.098465</td>\n",
       "      <td>40.815025</td>\n",
       "      <td>519.460022</td>\n",
       "      <td>302.190002</td>\n",
       "      <td>101.000000</td>\n",
       "    </tr>\n",
       "    <tr>\n",
       "      <th>2015-01-06</th>\n",
       "      <td>110.659370</td>\n",
       "      <td>40.215969</td>\n",
       "      <td>506.640015</td>\n",
       "      <td>295.290009</td>\n",
       "      <td>103.320000</td>\n",
       "    </tr>\n",
       "    <tr>\n",
       "      <th>2015-01-07</th>\n",
       "      <td>109.936157</td>\n",
       "      <td>40.726933</td>\n",
       "      <td>505.149994</td>\n",
       "      <td>298.420013</td>\n",
       "      <td>102.129997</td>\n",
       "    </tr>\n",
       "    <tr>\n",
       "      <th>2015-01-08</th>\n",
       "      <td>112.325630</td>\n",
       "      <td>41.925037</td>\n",
       "      <td>506.910004</td>\n",
       "      <td>300.459991</td>\n",
       "      <td>105.029999</td>\n",
       "    </tr>\n",
       "    <tr>\n",
       "      <th>...</th>\n",
       "      <td>...</td>\n",
       "      <td>...</td>\n",
       "      <td>...</td>\n",
       "      <td>...</td>\n",
       "      <td>...</td>\n",
       "    </tr>\n",
       "    <tr>\n",
       "      <th>2021-11-29</th>\n",
       "      <td>118.500000</td>\n",
       "      <td>336.630005</td>\n",
       "      <td>2910.610107</td>\n",
       "      <td>3561.570068</td>\n",
       "      <td>131.610001</td>\n",
       "    </tr>\n",
       "    <tr>\n",
       "      <th>2021-11-30</th>\n",
       "      <td>117.099998</td>\n",
       "      <td>330.589996</td>\n",
       "      <td>2837.949951</td>\n",
       "      <td>3507.070068</td>\n",
       "      <td>127.529999</td>\n",
       "    </tr>\n",
       "    <tr>\n",
       "      <th>2021-12-01</th>\n",
       "      <td>116.919998</td>\n",
       "      <td>330.079987</td>\n",
       "      <td>2821.030029</td>\n",
       "      <td>3443.719971</td>\n",
       "      <td>122.489998</td>\n",
       "    </tr>\n",
       "    <tr>\n",
       "      <th>2021-12-02</th>\n",
       "      <td>116.900002</td>\n",
       "      <td>329.489990</td>\n",
       "      <td>2859.320068</td>\n",
       "      <td>3437.360107</td>\n",
       "      <td>122.000000</td>\n",
       "    </tr>\n",
       "    <tr>\n",
       "      <th>2021-12-03</th>\n",
       "      <td>118.839996</td>\n",
       "      <td>323.010010</td>\n",
       "      <td>2840.030029</td>\n",
       "      <td>3389.790039</td>\n",
       "      <td>111.959999</td>\n",
       "    </tr>\n",
       "  </tbody>\n",
       "</table>\n",
       "<p>1744 rows × 5 columns</p>\n",
       "</div>"
      ],
      "text/plain": [
       "                   IBM        MSFT        GOOGL         AMZN        BABA\n",
       "Date                                                                    \n",
       "2015-01-02  114.906525   41.193836   529.549988   308.519989  103.599998\n",
       "2015-01-05  113.098465   40.815025   519.460022   302.190002  101.000000\n",
       "2015-01-06  110.659370   40.215969   506.640015   295.290009  103.320000\n",
       "2015-01-07  109.936157   40.726933   505.149994   298.420013  102.129997\n",
       "2015-01-08  112.325630   41.925037   506.910004   300.459991  105.029999\n",
       "...                ...         ...          ...          ...         ...\n",
       "2021-11-29  118.500000  336.630005  2910.610107  3561.570068  131.610001\n",
       "2021-11-30  117.099998  330.589996  2837.949951  3507.070068  127.529999\n",
       "2021-12-01  116.919998  330.079987  2821.030029  3443.719971  122.489998\n",
       "2021-12-02  116.900002  329.489990  2859.320068  3437.360107  122.000000\n",
       "2021-12-03  118.839996  323.010010  2840.030029  3389.790039  111.959999\n",
       "\n",
       "[1744 rows x 5 columns]"
      ]
     },
     "execution_count": 13,
     "metadata": {},
     "output_type": "execute_result"
    }
   ],
   "source": [
    "df"
   ]
  },
  {
   "cell_type": "markdown",
   "metadata": {},
   "source": [
    "# (Optional) For Advanced Students:\n",
    "\n",
    "## Here we will make some modifications to do portfolio optimization\n",
    "\n",
    "\n",
    "This tutorial shows how to solve the following mean-variance portfolio optimization problem for $n$ assets:\n",
    "\n",
    "$$\\begin{aligned}\n",
    "\\min_{x \\in \\{j ... k\\}^n}  q x^T \\Sigma x - \\mu^T x\\\\\n",
    "\\text{subject to: } 1^T x = B\n",
    "\\end{aligned}$$\n",
    "\n",
    "where we use the following notation:\n",
    "\n",
    "- $x \\in \\{-j, +k\\}^n$ denotes the vector of weight allocation variables, which indicate the relative allocation to assign. \n",
    "- $\\mu \\in \\mathbb{R}^n$ defines the expected returns for the assets,\n",
    "- $\\Sigma \\in \\mathbb{R}^{n \\times n}$ specifies the covariances between the assets,\n",
    "- $q > 0$ controls the risk appetite of the decision maker,\n",
    "- and $B$ denotes the budget, i.e. the number of assets to be selected out of $n$.\n",
    "\n",
    "We assume the following simplifications:\n",
    "- all assets have the same price (normalized to 1),\n",
    "- the full budget $B$ has to be spent, i.e. one has to allocate exactly $B$ relative amounts of asset.\n",
    "\n",
    "The equality constraint $1^T x = B$ is mapped to a penalty term $(1^T x - B)^2$ which is scaled by a parameter and subtracted from the objective function. \n",
    "The resulting problem can be mapped to a Hamiltonian whose ground state corresponds to  the optimal solution.\n",
    "This rest of this notebook shows how to use the Variational Quantum Eigensolver (VQE) an optimal solution for a given set of parameters."
   ]
  },
  {
   "cell_type": "code",
   "execution_count": 14,
   "metadata": {},
   "outputs": [
    {
     "data": {
      "text/plain": [
       "\\ This file has been generated by DOcplex\n",
       "\\ ENCODING=ISO-8859-1\n",
       "\\Problem name: Portfolio optimization\n",
       "\n",
       "Minimize\n",
       " obj: - 0.000143007918 x_0 - 0.001326151363 x_1 - 0.001102865871 x_2\n",
       "      - 0.001554990852 x_3 - 0.000284165007 x_4 + [ 0.000245765391 x_0^2\n",
       "      + 0.000265982611 x_0*x_1 + 0.000237944485 x_0*x_2 + 0.000189486072 x_0*x_3\n",
       "      + 0.000187919936 x_0*x_4 + 0.000288217789 x_1^2 + 0.000412109400 x_1*x_2\n",
       "      + 0.000417966709 x_1*x_3 + 0.000327982423 x_1*x_4 + 0.000278967925 x_2^2\n",
       "      + 0.000406657086 x_2*x_3 + 0.000321640348 x_2*x_4 + 0.000361323355 x_3^2\n",
       "      + 0.000360702247 x_3*x_4 + 0.000478777494 x_4^2 ]/2\n",
       "Subject To\n",
       " c0: x_0 + x_1 + x_2 + x_3 + x_4 = 5\n",
       "\n",
       "Bounds\n",
       " -1 <= x_0 <= 2\n",
       " -1 <= x_1 <= 2\n",
       " -1 <= x_2 <= 2\n",
       " -1 <= x_3 <= 2\n",
       " -1 <= x_4 <= 2\n",
       "\n",
       "Generals\n",
       " x_0 x_1 x_2 x_3 x_4\n",
       "End"
      ]
     },
     "execution_count": 14,
     "metadata": {},
     "output_type": "execute_result"
    }
   ],
   "source": [
    "q = 0.50                   #  risk appetite \n",
    "budget = num_assets        #  Units to allocate\n",
    "penalty = num_assets //2   #  set parameter to scale the budget penalty term\n",
    "bounds =[(-1,2)] *num_assets #  Allocation units, can be negative or positive\n",
    "\n",
    "\n",
    "portfolio = PortfolioOptimization(expected_returns=mu, covariances=sigma, risk_factor=q, budget=budget,bounds=bounds)\n",
    "qp = portfolio.to_quadratic_program()\n",
    "qp"
   ]
  },
  {
   "cell_type": "code",
   "execution_count": 15,
   "metadata": {},
   "outputs": [
    {
     "name": "stderr",
     "output_type": "stream",
     "text": [
      "/opt/conda/lib/python3.8/site-packages/sympy/core/expr.py:3949: SymPyDeprecationWarning: \n",
      "\n",
      "expr_free_symbols method has been deprecated since SymPy 1.9. See\n",
      "https://github.com/sympy/sympy/issues/21494 for more info.\n",
      "\n",
      "  SymPyDeprecationWarning(feature=\"expr_free_symbols method\",\n",
      "/opt/conda/lib/python3.8/site-packages/qiskit_optimization/algorithms/optimization_algorithm.py:141: UserWarning: The sum of probability of samples is not close to 1: f{sum_prob}\n",
      "  warn(\"The sum of probability of samples is not close to 1: f{sum_prob}\")\n"
     ]
    }
   ],
   "source": [
    "algorithm_globals.random_seed = seed +1\n",
    "backend = Aer.get_backend('statevector_simulator')\n",
    "\n",
    "\n",
    "cobyla = COBYLA()\n",
    "cobyla.set_options(maxiter=500)\n",
    "\n",
    "ry = TwoLocal(num_assets, 'ry', 'cz', reps=3, entanglement='full')\n",
    "\n",
    "quantum_instance = QuantumInstance(backend=backend, seed_simulator=seed, seed_transpiler=seed)\n",
    "\n",
    "vqe_mes = VQE(ry, optimizer=cobyla, quantum_instance=quantum_instance)\n",
    "vqe = MinimumEigenOptimizer(vqe_mes)\n",
    "\n",
    "result = vqe.solve(qp)"
   ]
  },
  {
   "cell_type": "code",
   "execution_count": 18,
   "metadata": {},
   "outputs": [
    {
     "data": {
      "text/html": [
       "<div>\n",
       "<style scoped>\n",
       "    .dataframe tbody tr th:only-of-type {\n",
       "        vertical-align: middle;\n",
       "    }\n",
       "\n",
       "    .dataframe tbody tr th {\n",
       "        vertical-align: top;\n",
       "    }\n",
       "\n",
       "    .dataframe thead th {\n",
       "        text-align: right;\n",
       "    }\n",
       "</style>\n",
       "<table border=\"1\" class=\"dataframe\">\n",
       "  <thead>\n",
       "    <tr style=\"text-align: right;\">\n",
       "      <th></th>\n",
       "      <th>IBM</th>\n",
       "      <th>MSFT</th>\n",
       "      <th>GOOGL</th>\n",
       "      <th>AMZN</th>\n",
       "      <th>BABA</th>\n",
       "    </tr>\n",
       "  </thead>\n",
       "  <tbody>\n",
       "    <tr>\n",
       "      <th>Allocation</th>\n",
       "      <td>1.0</td>\n",
       "      <td>2.0</td>\n",
       "      <td>0.0</td>\n",
       "      <td>2.0</td>\n",
       "      <td>0.0</td>\n",
       "    </tr>\n",
       "  </tbody>\n",
       "</table>\n",
       "</div>"
      ],
      "text/plain": [
       "            IBM  MSFT  GOOGL  AMZN  BABA\n",
       "Allocation  1.0   2.0    0.0   2.0   0.0"
      ]
     },
     "execution_count": 18,
     "metadata": {},
     "output_type": "execute_result"
    }
   ],
   "source": [
    "allocations = pandas.DataFrame({f\"{stocks[tidx]}\":result.x[tidx] for tidx in range(len(stocks))},index=['Allocation'])\n",
    "allocations"
   ]
  },
  {
   "cell_type": "markdown",
   "metadata": {},
   "source": [
    "### Student todo, complete an equity curve, CAGR and IR comparison for the a portfolio of all the stocks you selected for optimization compared to one which your Quantum Portfolio Optimzer put together.\n",
    "\n",
    "hints:\n",
    "\n",
    "\n",
    "The variable allocations contains a DataFrame with your relative stock allocations.   \n",
    "df is the full list of stocks you started with."
   ]
  },
  {
   "cell_type": "code",
   "execution_count": 21,
   "metadata": {},
   "outputs": [
    {
     "data": {
      "text/html": [
       "<div>\n",
       "<style scoped>\n",
       "    .dataframe tbody tr th:only-of-type {\n",
       "        vertical-align: middle;\n",
       "    }\n",
       "\n",
       "    .dataframe tbody tr th {\n",
       "        vertical-align: top;\n",
       "    }\n",
       "\n",
       "    .dataframe thead th {\n",
       "        text-align: right;\n",
       "    }\n",
       "</style>\n",
       "<table border=\"1\" class=\"dataframe\">\n",
       "  <thead>\n",
       "    <tr style=\"text-align: right;\">\n",
       "      <th></th>\n",
       "      <th>IBM</th>\n",
       "      <th>MSFT</th>\n",
       "      <th>GOOGL</th>\n",
       "      <th>AMZN</th>\n",
       "      <th>BABA</th>\n",
       "    </tr>\n",
       "    <tr>\n",
       "      <th>Date</th>\n",
       "      <th></th>\n",
       "      <th></th>\n",
       "      <th></th>\n",
       "      <th></th>\n",
       "      <th></th>\n",
       "    </tr>\n",
       "  </thead>\n",
       "  <tbody>\n",
       "    <tr>\n",
       "      <th>2015-01-05</th>\n",
       "      <td>-0.015735</td>\n",
       "      <td>-0.009196</td>\n",
       "      <td>-0.019054</td>\n",
       "      <td>-0.020517</td>\n",
       "      <td>-0.025097</td>\n",
       "    </tr>\n",
       "    <tr>\n",
       "      <th>2015-01-06</th>\n",
       "      <td>-0.021566</td>\n",
       "      <td>-0.014677</td>\n",
       "      <td>-0.024679</td>\n",
       "      <td>-0.022833</td>\n",
       "      <td>0.022970</td>\n",
       "    </tr>\n",
       "    <tr>\n",
       "      <th>2015-01-07</th>\n",
       "      <td>-0.006535</td>\n",
       "      <td>0.012705</td>\n",
       "      <td>-0.002941</td>\n",
       "      <td>0.010600</td>\n",
       "      <td>-0.011518</td>\n",
       "    </tr>\n",
       "    <tr>\n",
       "      <th>2015-01-08</th>\n",
       "      <td>0.021735</td>\n",
       "      <td>0.029418</td>\n",
       "      <td>0.003484</td>\n",
       "      <td>0.006836</td>\n",
       "      <td>0.028395</td>\n",
       "    </tr>\n",
       "    <tr>\n",
       "      <th>2015-01-09</th>\n",
       "      <td>0.004355</td>\n",
       "      <td>-0.008405</td>\n",
       "      <td>-0.012211</td>\n",
       "      <td>-0.011749</td>\n",
       "      <td>-0.019137</td>\n",
       "    </tr>\n",
       "    <tr>\n",
       "      <th>...</th>\n",
       "      <td>...</td>\n",
       "      <td>...</td>\n",
       "      <td>...</td>\n",
       "      <td>...</td>\n",
       "      <td>...</td>\n",
       "    </tr>\n",
       "    <tr>\n",
       "      <th>2021-11-29</th>\n",
       "      <td>0.023228</td>\n",
       "      <td>0.021081</td>\n",
       "      <td>0.023544</td>\n",
       "      <td>0.016267</td>\n",
       "      <td>-0.013048</td>\n",
       "    </tr>\n",
       "    <tr>\n",
       "      <th>2021-11-30</th>\n",
       "      <td>-0.011814</td>\n",
       "      <td>-0.017943</td>\n",
       "      <td>-0.024964</td>\n",
       "      <td>-0.015302</td>\n",
       "      <td>-0.031001</td>\n",
       "    </tr>\n",
       "    <tr>\n",
       "      <th>2021-12-01</th>\n",
       "      <td>-0.001537</td>\n",
       "      <td>-0.001543</td>\n",
       "      <td>-0.005962</td>\n",
       "      <td>-0.018064</td>\n",
       "      <td>-0.039520</td>\n",
       "    </tr>\n",
       "    <tr>\n",
       "      <th>2021-12-02</th>\n",
       "      <td>-0.000171</td>\n",
       "      <td>-0.001787</td>\n",
       "      <td>0.013573</td>\n",
       "      <td>-0.001847</td>\n",
       "      <td>-0.004000</td>\n",
       "    </tr>\n",
       "    <tr>\n",
       "      <th>2021-12-03</th>\n",
       "      <td>0.016595</td>\n",
       "      <td>-0.019667</td>\n",
       "      <td>-0.006746</td>\n",
       "      <td>-0.013839</td>\n",
       "      <td>-0.082295</td>\n",
       "    </tr>\n",
       "  </tbody>\n",
       "</table>\n",
       "<p>1743 rows × 5 columns</p>\n",
       "</div>"
      ],
      "text/plain": [
       "                 IBM      MSFT     GOOGL      AMZN      BABA\n",
       "Date                                                        \n",
       "2015-01-05 -0.015735 -0.009196 -0.019054 -0.020517 -0.025097\n",
       "2015-01-06 -0.021566 -0.014677 -0.024679 -0.022833  0.022970\n",
       "2015-01-07 -0.006535  0.012705 -0.002941  0.010600 -0.011518\n",
       "2015-01-08  0.021735  0.029418  0.003484  0.006836  0.028395\n",
       "2015-01-09  0.004355 -0.008405 -0.012211 -0.011749 -0.019137\n",
       "...              ...       ...       ...       ...       ...\n",
       "2021-11-29  0.023228  0.021081  0.023544  0.016267 -0.013048\n",
       "2021-11-30 -0.011814 -0.017943 -0.024964 -0.015302 -0.031001\n",
       "2021-12-01 -0.001537 -0.001543 -0.005962 -0.018064 -0.039520\n",
       "2021-12-02 -0.000171 -0.001787  0.013573 -0.001847 -0.004000\n",
       "2021-12-03  0.016595 -0.019667 -0.006746 -0.013839 -0.082295\n",
       "\n",
       "[1743 rows x 5 columns]"
      ]
     },
     "execution_count": 21,
     "metadata": {},
     "output_type": "execute_result"
    }
   ],
   "source": [
    "port = df.pct_change().dropna()\n",
    "port"
   ]
  },
  {
   "cell_type": "code",
   "execution_count": 30,
   "metadata": {},
   "outputs": [
    {
     "data": {
      "text/plain": [
       "Date\n",
       "2015-01-05   -0.015032\n",
       "2015-01-06   -0.019317\n",
       "2015-01-07    0.008015\n",
       "2015-01-08    0.018849\n",
       "2015-01-09   -0.007191\n",
       "                ...   \n",
       "2021-11-29    0.019585\n",
       "2021-11-30   -0.015661\n",
       "2021-12-01   -0.008150\n",
       "2021-12-02   -0.001488\n",
       "2021-12-03   -0.010083\n",
       "Length: 1743, dtype: float64"
      ]
     },
     "execution_count": 30,
     "metadata": {},
     "output_type": "execute_result"
    }
   ],
   "source": [
    "portfolio = (port*allocations.values).mean(axis=1)\n",
    "portfolio"
   ]
  },
  {
   "cell_type": "code",
   "execution_count": 31,
   "metadata": {},
   "outputs": [
    {
     "data": {
      "text/plain": [
       "IBM      0.000143\n",
       "MSFT     0.002652\n",
       "GOOGL    0.000000\n",
       "AMZN     0.003110\n",
       "BABA     0.000000\n",
       "dtype: float64"
      ]
     },
     "execution_count": 31,
     "metadata": {},
     "output_type": "execute_result"
    }
   ],
   "source": [
    "portfolio = (port*allocations.values).mean(axis=0)\n",
    "portfolio"
   ]
  },
  {
   "cell_type": "code",
   "execution_count": null,
   "metadata": {},
   "outputs": [],
   "source": []
  }
 ],
 "metadata": {
  "celltoolbar": "Tags",
  "kernelspec": {
   "display_name": "Qiskit v0.32.1 (ipykernel)",
   "language": "python",
   "name": "python3"
  },
  "language_info": {
   "codemirror_mode": {
    "name": "ipython",
    "version": 3
   },
   "file_extension": ".py",
   "mimetype": "text/x-python",
   "name": "python",
   "nbconvert_exporter": "python",
   "pygments_lexer": "ipython3",
   "version": "3.8.10"
  },
  "varInspector": {
   "cols": {
    "lenName": 16,
    "lenType": 16,
    "lenVar": 40
   },
   "kernels_config": {
    "python": {
     "delete_cmd_postfix": "",
     "delete_cmd_prefix": "del ",
     "library": "var_list.py",
     "varRefreshCmd": "print(var_dic_list())"
    },
    "r": {
     "delete_cmd_postfix": ") ",
     "delete_cmd_prefix": "rm(",
     "library": "var_list.r",
     "varRefreshCmd": "cat(var_dic_list()) "
    }
   },
   "types_to_exclude": [
    "module",
    "function",
    "builtin_function_or_method",
    "instance",
    "_Feature"
   ],
   "window_display": false
  },
  "widgets": {
   "application/vnd.jupyter.widget-state+json": {
    "state": {},
    "version_major": 2,
    "version_minor": 0
   }
  }
 },
 "nbformat": 4,
 "nbformat_minor": 4
}
